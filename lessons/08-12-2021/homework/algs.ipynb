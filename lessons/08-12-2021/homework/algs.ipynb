{
 "cells": [
  {
   "cell_type": "markdown",
   "metadata": {},
   "source": [
    "## Домашнее задание по алгоримам\n",
    "\n",
    "На выбор, в зависимости от вашего уровня\n",
    "\n",
    "\n",
    "1) https://informatics.msk.ru/mod/statements/view.php?id=192#1 -- решите задчки на бин-поиск\n",
    "\n",
    "2) https://informatics.msk.ru/mod/statements/view.php?id=256&chapterid=164#1 https://informatics.msk.ru/mod/statements/view.php?id=255#1 -- задачки на обход графов, обе темы одинаково важны и фундаментальны, поэтому решить 4 задачки из одной темы хуже чем по 2 задачки из двух.\n",
    "\n",
    "3) http://codeforces.com/contests -- поучавствуйте в соревновании на кодфорсе, можно в риал-тайме (что интереснее), можно в виртуальном, это не обязательно к следующему уроку\n",
    "    "
   ]
  },
  {
   "cell_type": "code",
   "execution_count": null,
   "metadata": {},
   "outputs": [],
   "source": []
  }
 ],
 "metadata": {
  "kernelspec": {
   "display_name": "Python 3",
   "language": "python",
   "name": "python3"
  },
  "language_info": {
   "codemirror_mode": {
    "name": "ipython",
    "version": 3
   },
   "file_extension": ".py",
   "mimetype": "text/x-python",
   "name": "python",
   "nbconvert_exporter": "python",
   "pygments_lexer": "ipython3",
   "version": "3.7.6"
  }
 },
 "nbformat": 4,
 "nbformat_minor": 4
}
