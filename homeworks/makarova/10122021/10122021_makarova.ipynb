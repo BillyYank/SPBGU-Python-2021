{
 "cells": [
  {
   "cell_type": "code",
   "execution_count": 44,
   "metadata": {},
   "outputs": [],
   "source": [
    "from collections import Counter\n",
    "from nltk.corpus import stopwords\n",
    "from textblob import TextBlob\n",
    "import nltk\n",
    "import sys"
   ]
  },
  {
   "cell_type": "markdown",
   "metadata": {},
   "source": [
    "task 1"
   ]
  },
  {
   "cell_type": "code",
   "execution_count": 18,
   "metadata": {},
   "outputs": [],
   "source": [
    "class Text:\n",
    "    def __init__(self, raw_text):\n",
    "        self.raw_text = raw_text\n",
    "        pass\n",
    "\n",
    "    def top_words(self, n):\n",
    "        s = set(stopwords.words('english'))\n",
    "        del_most_com = list(filter(lambda w: not w in s,self.raw_text.split()))\n",
    "        counter = Counter(del_most_com)\n",
    "        return counter.most_common()[:n]\n",
    "        pass\n",
    "\n",
    "    def paragraphs_count(self):\n",
    "        splited_text = self.raw_text.split(\"\\n\")\n",
    "        return len(list(filter(lambda w: w!=\"\", splited_text)))\n",
    "        pass\n",
    "\n",
    "    @property\n",
    "    def lang(self):\n",
    "        b = TextBlob(self.raw_text[:100])\n",
    "        return b.detect_language()\n",
    "        pass"
   ]
  },
  {
   "cell_type": "code",
   "execution_count": 22,
   "metadata": {},
   "outputs": [],
   "source": [
    "#reading the file\n",
    "with open('The Hitchhikers Guide to the Galaxy.txt', 'r') as f:\n",
    "    text = Text(f.read())"
   ]
  },
  {
   "cell_type": "code",
   "execution_count": 23,
   "metadata": {},
   "outputs": [
    {
     "name": "stdout",
     "output_type": "stream",
     "text": [
      "Top 10 words: \n",
      " [('said', 504), ('I', 365), ('The', 297), ('He', 237), ('Arthur', 180), ('Ford', 171), ('one', 146), ('It', 118), ('\"I', 115), ('would', 114)]\n"
     ]
    }
   ],
   "source": [
    "print(\"Top 10 words: \\n\", text.top_words(10))"
   ]
  },
  {
   "cell_type": "code",
   "execution_count": 27,
   "metadata": {},
   "outputs": [
    {
     "name": "stdout",
     "output_type": "stream",
     "text": [
      "Paragraphs count:  2186\n"
     ]
    }
   ],
   "source": [
    "print(\"Paragraphs count: \", text.paragraphs_count())"
   ]
  },
  {
   "cell_type": "code",
   "execution_count": 28,
   "metadata": {},
   "outputs": [
    {
     "name": "stdout",
     "output_type": "stream",
     "text": [
      "Language:  en\n"
     ]
    }
   ],
   "source": [
    "print(\"Language: \", text.lang)"
   ]
  },
  {
   "cell_type": "markdown",
   "metadata": {},
   "source": [
    "task 2"
   ]
  },
  {
   "cell_type": "code",
   "execution_count": 31,
   "metadata": {},
   "outputs": [],
   "source": [
    "class Poem(Text):\n",
    "    def __init__(self, raw_text):\n",
    "        super(Poem, self).__init__(raw_text)\n",
    "        self.raw_text = raw_text\n",
    "        self.row_splited = raw_text.split(\"\\n\")\n",
    "        self.n = len(self.row_splited)-2\n",
    "        self.counter = -1\n",
    "        pass\n",
    "\n",
    "    def __iter__(self):\n",
    "        self.counter = -1\n",
    "        return self\n",
    "        pass\n",
    "\n",
    "    def __next__(self):\n",
    "        if self.counter > self.n:\n",
    "            raise StopIteration\n",
    "        self.counter +=1\n",
    "        return self.row_splited[self.counter]\n",
    "        pass\n",
    "\n",
    "    @property\n",
    "    def style(self):\n",
    "        #TODO\n",
    "        pass"
   ]
  },
  {
   "cell_type": "code",
   "execution_count": 32,
   "metadata": {},
   "outputs": [],
   "source": [
    "with open('blake.txt', 'r') as f:\n",
    "    poem = Poem(f.read())"
   ]
  },
  {
   "cell_type": "code",
   "execution_count": 33,
   "metadata": {},
   "outputs": [
    {
     "name": "stdout",
     "output_type": "stream",
     "text": [
      "Top 10 words: \n",
      " [('said', 504), ('I', 365), ('The', 297), ('He', 237), ('Arthur', 180), ('Ford', 171), ('one', 146), ('It', 118), ('\"I', 115), ('would', 114)]\n",
      "Language:  en\n"
     ]
    }
   ],
   "source": [
    "print(\"Top 10 words: \\n\", text.top_words(10))\n",
    "print(\"Language: \", text.lang)"
   ]
  },
  {
   "cell_type": "code",
   "execution_count": 34,
   "metadata": {},
   "outputs": [
    {
     "name": "stdout",
     "output_type": "stream",
     "text": [
      "To see a world in a grain of sand\n",
      "And a heaven in a wild flower,\n",
      "Hold infinity in the palm of your hand\n",
      "And eternity in an hour.\n",
      "A robin redbreast in a cage\n",
      "Puts all heaven in a rage.\n",
      "A dove-house filled with doves and pigeons\n",
      "Shudders hell through all its regions.\n",
      "A dog starved at his master's gate\n",
      "Predicts the ruin of the state.\n",
      "A horse misused upon the road\n",
      "Calls to heaven for human blood.\n",
      "Each outcry of the hunted hare\n",
      "A fibre from the brain does tear.\n",
      "A skylark wounded in the wing,\n",
      "A cherubim does cease to sing.\n",
      "The game-cock clipped and armed for fight\n",
      "Does the rising sun affright.\n",
      "Every wolf's and lion's howl\n",
      "Raises from hell a human soul.\n",
      "The wild deer wandering here and there\n",
      "Keeps the human soul from care.\n",
      "The lamb misused breeds public strife,\n",
      "And yet forgives the butcher's knife.\n",
      "The bat that flits at close of eve\n",
      "Has left the brain that won't believe.\n",
      "The owl that calls upon the night\n",
      "Speaks the unbeliever's fright.\n",
      "He who shall hurt the little wren\n",
      "Shall never be beloved by men.\n",
      "He who the ox to wrath has moved\n",
      "Shall never be by woman loved.\n",
      "The wanton boy that kills the fly\n",
      "Shall feel the spider's enmity.\n",
      "He who torments the chafer's sprite\n",
      "Weaves a bower in endless night.\n",
      "The caterpillar on the leaf\n",
      "Repeats to thee thy mother's grief.\n",
      "Kill not the moth nor butterfly,\n",
      "For the Last Judgment draweth nigh.\n",
      "He who shall train the horse to war\n",
      "Shall never pass the polar bar.\n",
      "The beggar's dog and widow's cat,\n",
      "Feed them, and thou wilt grow fat.\n",
      "The gnat that sings his summer's song\n",
      "Poison gets from Slander's tongue.\n",
      "The poison of the snake and newt\n",
      "Is the sweat of Envy's foot.\n",
      "The poison of the honey-bee\n",
      "Is the artist's jealousy.\n",
      "The prince's robes and beggar's rags\n",
      "Are toadstools on the miser's bags.\n",
      "A truth that's told with bad intent\n",
      "Beats all the lies you can invent.\n",
      "It is right it should be so:\n",
      "Man was made for joy and woe;\n",
      "And when this we rightly know\n",
      "Through the world we safely go.\n",
      "Joy and woe are woven fine,\n",
      "A clothing for the soul divine.\n",
      "Under every grief and pine\n",
      "Runs a joy with silken twine.\n",
      "The babe is more than swaddling bands,\n",
      "Throughout all these human lands;\n",
      "Tools were made and born were hands,\n",
      "Every farmer understands.\n",
      "Every tear from every eye\n",
      "Becomes a babe in eternity;\n",
      "This is caught by females bright\n",
      "And returned to its own delight.\n",
      "The bleat, the bark, bellow, and roar\n",
      "Are waves that beat on heaven's shore.\n",
      "The babe that weeps the rod beneath\n",
      "Writes Revenge! in realms of death.\n",
      "The beggar's rags fluttering in air\n",
      "Does to rags the heavens tear.\n",
      "The soldier armed with sword and gun\n",
      "Palsied strikes the summer's sun.\n",
      "The poor man's farthing is worth more\n",
      "Than all the gold on Afric's shore.\n",
      "One mite wrung from the labourer's hands\n",
      "Shall buy and sell the miser's lands,\n",
      "Or if protected from on high\n",
      "Does that whole nation sell and buy.\n",
      "He who mocks the infant's faith\n",
      "Shall be mocked in age and death.\n",
      "He who shall teach the child to doubt\n",
      "The rotting grave shall ne'er get out.\n",
      "He who respects the infant's faith\n",
      "Triumphs over hell and death.\n",
      "The child's toys and the old man's reasons\n",
      "Are the fruits of the two seasons.\n",
      "The questioner who sits so sly\n",
      "Shall never know how to reply.\n",
      "He who replies to words of doubt\n",
      "Doth put the light of knowledge out.\n",
      "The strongest poison ever known\n",
      "Came from Caesar's laurel crown.\n",
      "Nought can deform the human race\n",
      "Like to the armour's iron brace.\n",
      "When gold and gems adorn the plough\n",
      "To peaceful arts shall Envy bow.\n",
      "A riddle or the cricket's cry\n",
      "Is to doubt a fit reply.\n",
      "The emmet's inch and eagle's mile\n",
      "Make lame philosophy to smile.\n",
      "He who doubts from what he sees\n",
      "Will ne'er believe, do what you please.\n",
      "If the sun and moon should doubt,\n",
      "They'd immediately go out.\n",
      "To be in a passion you good may do,\n",
      "But no good if a passion is in you.\n",
      "The whore and , by the state\n",
      "Licensed, build that nation's fate.\n",
      "The harlot's cry from street to street\n",
      "Shall weave old England's winding sheet.\n",
      "The winner's shout, the loser's curse,\n",
      "Dance before dead England's hearse.\n",
      "Every night and every morn\n",
      "Some to misery are born.\n",
      "Every morn and every night\n",
      "Some are born to sweet delight.\n",
      "Some are born to sweet delight,\n",
      "Some are born to endless night.\n",
      "We are led to believe a lie\n",
      "When we see not through the eye\n",
      "Which was born in a night to perish in a night,\n",
      "When the soul slept in beams of light.\n",
      "God appears, and God is light\n",
      "To those poor souls who dwell in night,\n",
      "But does a human form display\n",
      "To those who dwell in realms of day.\n"
     ]
    }
   ],
   "source": [
    "for line in poem:\n",
    "    print(line)"
   ]
  },
  {
   "cell_type": "code",
   "execution_count": 43,
   "metadata": {},
   "outputs": [
    {
     "data": {
      "text/plain": [
       "36"
      ]
     },
     "execution_count": 43,
     "metadata": {},
     "output_type": "execute_result"
    }
   ],
   "source": [
    "len(line)"
   ]
  }
 ],
 "metadata": {
  "kernelspec": {
   "display_name": "Python 3",
   "language": "python",
   "name": "python3"
  },
  "language_info": {
   "codemirror_mode": {
    "name": "ipython",
    "version": 3
   },
   "file_extension": ".py",
   "mimetype": "text/x-python",
   "name": "python",
   "nbconvert_exporter": "python",
   "pygments_lexer": "ipython3",
   "version": "3.9.0"
  }
 },
 "nbformat": 4,
 "nbformat_minor": 4
}
