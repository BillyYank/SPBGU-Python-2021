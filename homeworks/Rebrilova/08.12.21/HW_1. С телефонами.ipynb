{
 "cells": [
  {
   "cell_type": "markdown",
   "metadata": {},
   "source": [
    "## Домашнее задание по алгоримам\n",
    "\n",
    "На выбор, в зависимости от вашего уровня\n",
    "\n",
    "\n",
    "1) https://informatics.msk.ru/mod/statements/view.php?id=192#1 -- решите задчки на бин-поиск\n",
    "\n",
    "2) https://informatics.msk.ru/mod/statements/view.php?id=256&chapterid=164#1 https://informatics.msk.ru/mod/statements/view.php?id=255#1 -- задачки на обход графов, обе темы одинаково важны и фундаментальны, поэтому решить 4 задачки из одной темы хуже чем по 2 задачки из двух.\n",
    "\n",
    "3) http://codeforces.com/contests -- поучавствуйте в соревновании на кодфорсе, можно в риал-тайме (что интереснее), можно в виртуальном, это не обязательно к следующему уроку\n",
    "    "
   ]
  },
  {
   "cell_type": "markdown",
   "metadata": {},
   "source": [
    "### Бонус-задачка про графы\n",
    "\n",
    "для ее решения вам надо уметь пользоваться библиотекой pandas.\n",
    "\n",
    "\n",
    "У некоторой компании есть записи о пользователях -- их телефон и email (его хэш). У одного и того же человека может быть несколько телефонов и несколько почт. Вам надо каждой строке в таблице проставить некоторый id-шник пользователя.\n",
    "\n",
    "Пример: в таблице есть строки\n",
    "\n",
    "(+79999990001, 'qwerty'), (+79999990321, 'qwerty'), (+79999990321, 'asdasd')\n",
    "\n",
    "все эти строки соответствуют одному пользователю, так как у первой и второй совпадают почты, а у второй и третей - телефоны, поэтому мы понимаем, что это один и тот же пользователь. Соответственно мы ставим всем трем строкам, один и тот же id-шник (например 5; id -- это любой идентификатор с единственным условием: у строк соответствующих одному пользователю он один и тот же, если пользоавтели разные -- то и id тоже разные)"
   ]
  },
  {
   "cell_type": "code",
   "execution_count": 2,
   "metadata": {},
   "outputs": [
    {
     "data": {
      "text/html": [
       "<div>\n",
       "<style scoped>\n",
       "    .dataframe tbody tr th:only-of-type {\n",
       "        vertical-align: middle;\n",
       "    }\n",
       "\n",
       "    .dataframe tbody tr th {\n",
       "        vertical-align: top;\n",
       "    }\n",
       "\n",
       "    .dataframe thead th {\n",
       "        text-align: right;\n",
       "    }\n",
       "</style>\n",
       "<table border=\"1\" class=\"dataframe\">\n",
       "  <thead>\n",
       "    <tr style=\"text-align: right;\">\n",
       "      <th></th>\n",
       "      <th>phone</th>\n",
       "      <th>email</th>\n",
       "    </tr>\n",
       "  </thead>\n",
       "  <tbody>\n",
       "    <tr>\n",
       "      <th>0</th>\n",
       "      <td>79999999250</td>\n",
       "      <td>547f5064447fe21fa7c4dbdbda15ac5c05d73d23e9d476...</td>\n",
       "    </tr>\n",
       "    <tr>\n",
       "      <th>1</th>\n",
       "      <td>79999999245</td>\n",
       "      <td>b064f7b61d192560afa8ec690aa913c66141942d4392e2...</td>\n",
       "    </tr>\n",
       "    <tr>\n",
       "      <th>2</th>\n",
       "      <td>79999999249</td>\n",
       "      <td>018f1415fd9b2926c997c2ff3be536b362f9142fb79a3b...</td>\n",
       "    </tr>\n",
       "    <tr>\n",
       "      <th>3</th>\n",
       "      <td>79999999196</td>\n",
       "      <td>bd2f299ebe07ae8d1c1fd00ed15635b1490caebc508b0b...</td>\n",
       "    </tr>\n",
       "    <tr>\n",
       "      <th>4</th>\n",
       "      <td>79999999145</td>\n",
       "      <td>d1753e01929869982ac78825b0f31ad5ccb1a44068fbe7...</td>\n",
       "    </tr>\n",
       "  </tbody>\n",
       "</table>\n",
       "</div>"
      ],
      "text/plain": [
       "         phone                                              email\n",
       "0  79999999250  547f5064447fe21fa7c4dbdbda15ac5c05d73d23e9d476...\n",
       "1  79999999245  b064f7b61d192560afa8ec690aa913c66141942d4392e2...\n",
       "2  79999999249  018f1415fd9b2926c997c2ff3be536b362f9142fb79a3b...\n",
       "3  79999999196  bd2f299ebe07ae8d1c1fd00ed15635b1490caebc508b0b...\n",
       "4  79999999145  d1753e01929869982ac78825b0f31ad5ccb1a44068fbe7..."
      ]
     },
     "execution_count": 2,
     "metadata": {},
     "output_type": "execute_result"
    }
   ],
   "source": [
    "import pandas as pd\n",
    "import numpy as np\n",
    "from collections import deque\n",
    "\n",
    "data = pd.read_excel('users_phones.xlsx')\n",
    "\n",
    "data.head()"
   ]
  },
  {
   "cell_type": "code",
   "execution_count": 3,
   "metadata": {},
   "outputs": [],
   "source": [
    "phones = list(data['phone'])\n",
    "mails = list(data['email'])"
   ]
  },
  {
   "cell_type": "code",
   "execution_count": 4,
   "metadata": {},
   "outputs": [],
   "source": [
    "df = pd.DataFrame(data)"
   ]
  },
  {
   "cell_type": "code",
   "execution_count": 5,
   "metadata": {},
   "outputs": [],
   "source": [
    "def comp(s):\n",
    "    comp = {s}\n",
    "    queue1 = deque([s])\n",
    "    queue2 = deque()\n",
    "    while len(queue1) > 0:\n",
    "        vert = queue1.popleft()\n",
    "        for neib in dict1[vert]:\n",
    "            if neib not in comp:\n",
    "                comp.add(neib)\n",
    "                for phone in dict2[neib]:\n",
    "                    if phone not in comp: \n",
    "                        comp.add(phone)\n",
    "                        queue1.append(phone)\n",
    "        dict1.pop(vert)\n",
    "    return comp"
   ]
  },
  {
   "cell_type": "code",
   "execution_count": 11,
   "metadata": {},
   "outputs": [],
   "source": [
    "dict1 = df.groupby(['phone'])[\"email\"].apply(list)\n",
    "dict2 = df.groupby(['email'])[\"phone\"].apply(list)\n",
    "dictionary = {}\n",
    "i = 1\n",
    "while len(dict1)>0:\n",
    "    key = dict1.keys()[0]\n",
    "    for elem in comp(key):\n",
    "        dictionary[elem] = i\n",
    "    i+=1"
   ]
  },
  {
   "cell_type": "code",
   "execution_count": 12,
   "metadata": {},
   "outputs": [],
   "source": [
    "df[\"id\"] = df.apply(lambda row:  dictionary[row[0]], axis = 1)"
   ]
  },
  {
   "cell_type": "code",
   "execution_count": 13,
   "metadata": {},
   "outputs": [],
   "source": [
    "df.to_excel('result.xlsx', index=False)"
   ]
  },
  {
   "cell_type": "code",
   "execution_count": null,
   "metadata": {},
   "outputs": [],
   "source": []
  }
 ],
 "metadata": {
  "kernelspec": {
   "display_name": "Python 2",
   "language": "python",
   "name": "python2"
  },
  "language_info": {
   "codemirror_mode": {
    "name": "ipython",
    "version": 2
   },
   "file_extension": ".py",
   "mimetype": "text/x-python",
   "name": "python",
   "nbconvert_exporter": "python",
   "pygments_lexer": "ipython2",
   "version": "2.7.15"
  }
 },
 "nbformat": 4,
 "nbformat_minor": 4
}
