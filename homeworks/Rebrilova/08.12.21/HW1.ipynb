{
 "cells": [
  {
   "cell_type": "code",
   "execution_count": 24,
   "metadata": {},
   "outputs": [],
   "source": [
    "import networkx as nx\n",
    "from collections import deque"
   ]
  },
  {
   "cell_type": "code",
   "execution_count": 25,
   "metadata": {},
   "outputs": [],
   "source": [
    "n = 5\n",
    "a = [\"0 1 0 0 1\", \"1 0 0 0 0\", \"0 0 0 0 0\", \"0 0 0 0 1\", \"1 0 0 1 0\"]\n",
    "s, t = 3, 5"
   ]
  },
  {
   "cell_type": "code",
   "execution_count": 26,
   "metadata": {},
   "outputs": [],
   "source": [
    "graph = {i: [] for i in range(1, n+1)}\n",
    "for i in graph.keys():\n",
    "    row = a[i-1].split()\n",
    "    for j in range(n):\n",
    "        if row[j]==\"1\": graph[i].append(j+1)"
   ]
  },
  {
   "cell_type": "code",
   "execution_count": 35,
   "metadata": {},
   "outputs": [
    {
     "name": "stdout",
     "output_type": "stream",
     "text": [
      "{1: [2, 5], 2: [1], 3: [], 4: [5], 5: [1, 4]}\n"
     ]
    }
   ],
   "source": [
    "print(graph)"
   ]
  },
  {
   "cell_type": "code",
   "execution_count": 36,
   "metadata": {},
   "outputs": [
    {
     "data": {
      "image/png": "[encoded data removed]",
      "text/plain": [
       "<Figure size 432x288 with 1 Axes>"
      ]
     },
     "metadata": {
      "needs_background": "light"
     },
     "output_type": "display_data"
    }
   ],
   "source": [
    "G = nx.DiGraph()\n",
    "for i in range(n):\n",
    "    G.add_node(i)\n",
    "for v, neibs in graph.items():\n",
    "    for neib in neibs:\n",
    "        G.add_edge(v, neib)\n",
    "        \n",
    "nx.draw_networkx(G)"
   ]
  },
  {
   "cell_type": "markdown",
   "metadata": {},
   "source": [
    "## Задача 160. Путь в графе"
   ]
  },
  {
   "cell_type": "code",
   "execution_count": 37,
   "metadata": {},
   "outputs": [],
   "source": [
    "def short_path(s, t):\n",
    "    distances = {s:0}\n",
    "    path = {s:[s]}\n",
    "    queue = deque([s])\n",
    "    while len(queue) > 0:\n",
    "        vert = queue.popleft()\n",
    "        for neib in graph[vert]:\n",
    "            if neib not in distances:\n",
    "                distances[neib] = distances[vert] + 1\n",
    "                path[neib] = path[vert] + [neib]\n",
    "                queue.append(neib)\n",
    "    if t in path: return [distances[t], path[t]]\n",
    "    else: return -1"
   ]
  },
  {
   "cell_type": "code",
   "execution_count": 48,
   "metadata": {},
   "outputs": [
    {
     "name": "stdout",
     "output_type": "stream",
     "text": [
      "-1\n",
      "[3, [2, 1, 5, 4]]\n"
     ]
    }
   ],
   "source": [
    "print(short_path(3, 5))\n",
    "print(short_path(2, 4))"
   ]
  },
  {
   "cell_type": "markdown",
   "metadata": {},
   "source": [
    "## Задача 164. Обход графа"
   ]
  },
  {
   "cell_type": "code",
   "execution_count": 43,
   "metadata": {},
   "outputs": [],
   "source": [
    "def comp(s):\n",
    "    comp = {s}\n",
    "    queue = deque([s])\n",
    "    while len(queue) > 0:\n",
    "        vert = queue.popleft()\n",
    "        for neib in graph[vert]:\n",
    "            if neib not in comp:\n",
    "                comp.add(neib)\n",
    "                queue.append(neib)\n",
    "    return len(comp)"
   ]
  },
  {
   "cell_type": "code",
   "execution_count": 47,
   "metadata": {},
   "outputs": [
    {
     "name": "stdout",
     "output_type": "stream",
     "text": [
      "4\n",
      "1\n"
     ]
    }
   ],
   "source": [
    "print(comp(1))\n",
    "print(comp(3))"
   ]
  },
  {
   "cell_type": "code",
   "execution_count": null,
   "metadata": {},
   "outputs": [],
   "source": []
  }
 ],
 "metadata": {
  "kernelspec": {
   "display_name": "Python 2",
   "language": "python",
   "name": "python2"
  },
  "language_info": {
   "codemirror_mode": {
    "name": "ipython",
    "version": 2
   },
   "file_extension": ".py",
   "mimetype": "text/x-python",
   "name": "python",
   "nbconvert_exporter": "python",
   "pygments_lexer": "ipython2",
   "version": "2.7.15"
  }
 },
 "nbformat": 4,
 "nbformat_minor": 2
}
