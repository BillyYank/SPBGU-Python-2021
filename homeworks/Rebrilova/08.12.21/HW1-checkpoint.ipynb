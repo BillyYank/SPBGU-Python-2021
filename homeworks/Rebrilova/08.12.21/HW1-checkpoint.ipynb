{
 "cells": [
  {
   "cell_type": "code",
   "execution_count": 33,
   "metadata": {},
   "outputs": [],
   "source": [
    "import networkx as nx\n",
    "from collections import deque"
   ]
  },
  {
   "cell_type": "code",
   "execution_count": 74,
   "metadata": {},
   "outputs": [],
   "source": [
    "n = 5\n",
    "a = [\"0 1 0 0 1\", \"1 0 1 0 0\", \"0 1 0 1 0\", \"0 0 1 0 1\", \"1 0 0 1 0\"]\n",
    "s, t = 3, 5"
   ]
  },
  {
   "cell_type": "code",
   "execution_count": 75,
   "metadata": {},
   "outputs": [],
   "source": [
    "graph = {i: [] for i in range(1, n+1)}\n",
    "for i in graph.keys():\n",
    "    row = a[i-1].split()\n",
    "    for j in range(n):\n",
    "        if row[j]==\"1\": graph[i].append(j+1)"
   ]
  },
  {
   "cell_type": "code",
   "execution_count": 76,
   "metadata": {},
   "outputs": [
    {
     "name": "stdout",
     "output_type": "stream",
     "text": [
      "{1: [2, 5], 2: [1, 3], 3: [2, 4], 4: [3, 5], 5: [1, 4]}\n"
     ]
    }
   ],
   "source": [
    "print(graph)"
   ]
  },
  {
   "cell_type": "code",
   "execution_count": 77,
   "metadata": {},
   "outputs": [
    {
     "data": {
      "image/png": "[encoded data removed]",
      "text/plain": [
       "<Figure size 432x288 with 1 Axes>"
      ]
     },
     "metadata": {
      "needs_background": "light"
     },
     "output_type": "display_data"
    }
   ],
   "source": [
    "G = nx.DiGraph()\n",
    "for i in range(n):\n",
    "    G.add_node(i)\n",
    "for v, neibs in graph.items():\n",
    "    for neib in neibs:\n",
    "        G.add_edge(v, neib)\n",
    "        \n",
    "nx.draw_networkx(G)"
   ]
  },
  {
   "cell_type": "markdown",
   "metadata": {},
   "source": [
    "## Задача 160. Путь в графе"
   ]
  },
  {
   "cell_type": "code",
   "execution_count": 89,
   "metadata": {},
   "outputs": [],
   "source": [
    "def short_path(s, t):\n",
    "    distances = {s:0}\n",
    "    path = {s:[s]}\n",
    "    queue = deque([s])\n",
    "    while len(queue) > 0:\n",
    "        vert = queue.popleft()\n",
    "        for neib in graph[vert]:\n",
    "            if neib not in distances:\n",
    "                distances[neib] = distances[vert] + 1\n",
    "                path[neib] = path[vert] + [neib]\n",
    "                queue.append(neib)\n",
    "    return [distances[t], path[t]]"
   ]
  },
  {
   "cell_type": "code",
   "execution_count": 90,
   "metadata": {},
   "outputs": [
    {
     "data": {
      "text/plain": [
       "[2, [3, 4, 5]]"
      ]
     },
     "execution_count": 90,
     "metadata": {},
     "output_type": "execute_result"
    }
   ],
   "source": [
    "short_path(3, 5)"
   ]
  },
  {
   "cell_type": "code",
   "execution_count": null,
   "metadata": {},
   "outputs": [],
   "source": []
  }
 ],
 "metadata": {
  "kernelspec": {
   "display_name": "Python 2",
   "language": "python",
   "name": "python2"
  },
  "language_info": {
   "codemirror_mode": {
    "name": "ipython",
    "version": 2
   },
   "file_extension": ".py",
   "mimetype": "text/x-python",
   "name": "python",
   "nbconvert_exporter": "python",
   "pygments_lexer": "ipython2",
   "version": "2.7.15"
  }
 },
 "nbformat": 4,
 "nbformat_minor": 2
}
