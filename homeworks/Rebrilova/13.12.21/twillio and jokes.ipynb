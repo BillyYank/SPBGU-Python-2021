{
 "cells": [
  {
   "cell_type": "code",
   "execution_count": 1,
   "metadata": {},
   "outputs": [],
   "source": [
    "import os\n",
    "from twilio.rest import Client\n",
    "\n",
    "\n",
    "\n",
    "account_sid = 'ACa19f70c845f7018e90c4ba2311a1e70d'\n",
    "auth_token = '4dc3d23d2ed3e66fb158c4e2e6e19781'\n",
    "#client = Client(account_sid, auth_token)\n",
    "\n",
    "#call = client.calls.create(\n",
    "#                        url='http://demo.twilio.com/docs/voice.xml',\n",
    "#                        to='+79112871146',\n",
    "#                        from_='+16816411334'\n",
    "#                    )\n",
    "\n",
    "#print(call.sid)"
   ]
  },
  {
   "cell_type": "code",
   "execution_count": 2,
   "metadata": {},
   "outputs": [],
   "source": [
    "import nest_asyncio\n",
    "nest_asyncio.apply()"
   ]
  },
  {
   "cell_type": "code",
   "execution_count": 9,
   "metadata": {},
   "outputs": [
    {
     "data": {
      "text/plain": [
       "\"What's the difference between a hot potato and a flying pig?     One's a heated yam, the other's a yeeted ham.\""
      ]
     },
     "execution_count": 9,
     "metadata": {},
     "output_type": "execute_result"
    }
   ],
   "source": [
    "from jokeapi import Jokes # Import the Jokes class\n",
    "import asyncio\n",
    "\n",
    "async def print_joke():\n",
    "    j = await Jokes()  # Initialise the class\n",
    "    joke = await j.get_joke()  # Retrieve a random joke\n",
    "    if joke[\"type\"] == \"single\": # Print the joke\n",
    "        return (joke[\"joke\"])\n",
    "    else:\n",
    "        return(joke[\"setup\"] + \"     \" + joke[\"delivery\"])\n",
    "        \n",
    "\n",
    "asyncio.run(print_joke())"
   ]
  },
  {
   "cell_type": "code",
   "execution_count": 24,
   "metadata": {},
   "outputs": [
    {
     "data": {
      "text/plain": [
       "\"Two reasons I don't give money to homeless people.\\n1) They are going to spend it all on drugs and alcohol\\n2) I am going to spend it all on drugs and alcohol.\""
      ]
     },
     "execution_count": 24,
     "metadata": {},
     "output_type": "execute_result"
    }
   ],
   "source": [
    "async def print_joke():\n",
    "    j = await Jokes()  # Initialise the class\n",
    "    joke = await j.get_joke()  # Retrieve a random joke\n",
    "    while joke[\"type\"] != \"single\": # Print the joke\n",
    "        joke = await j.get_joke()\n",
    "    else:\n",
    "        return(joke[\"joke\"])\n",
    "        \n",
    "\n",
    "asyncio.run(print_joke())"
   ]
  },
  {
   "cell_type": "code",
   "execution_count": 2,
   "metadata": {},
   "outputs": [
    {
     "ename": "SyntaxError",
     "evalue": "invalid syntax (<ipython-input-2-45de44dfa745>, line 7)",
     "output_type": "error",
     "traceback": [
      "\u001b[1;36m  File \u001b[1;32m\"<ipython-input-2-45de44dfa745>\"\u001b[1;36m, line \u001b[1;32m7\u001b[0m\n\u001b[1;33m    twiml=f'<Response><Say voice=\"alice\">{}.</Say></Response>',\u001b[0m\n\u001b[1;37m                                                             ^\u001b[0m\n\u001b[1;31mSyntaxError\u001b[0m\u001b[1;31m:\u001b[0m invalid syntax\n"
     ]
    }
   ],
   "source": [
    "def call_joke(phone_number):\n",
    "    client = Client(account_sid, auth_token)\n",
    "    \n",
    "    joke = print_joke()\n",
    "    \n",
    "    call = client.calls.create(\n",
    "                            twiml=f'<Response><Say voice=\"alice\">++.</Say></Response>',\n",
    "                            to=phone_number,\n",
    "                            from_='+16816411334'\n",
    "                        )\n",
    "    return call.sid"
   ]
  },
  {
   "cell_type": "code",
   "execution_count": 38,
   "metadata": {},
   "outputs": [
    {
     "name": "stderr",
     "output_type": "stream",
     "text": [
      "C:\\Users\\Sofa\\AppData\\Local\\Temp/ipykernel_18796/2751009111.py:1: RuntimeWarning: coroutine 'print_joke' was never awaited\n",
      "  call_joke('+79112871146')\n",
      "RuntimeWarning: Enable tracemalloc to get the object allocation traceback\n"
     ]
    },
    {
     "data": {
      "text/plain": [
       "'CAc4ca1d7e887b4e7afd2f2ec2d56d85d0'"
      ]
     },
     "execution_count": 38,
     "metadata": {},
     "output_type": "execute_result"
    }
   ],
   "source": [
    "call_joke('+79112871146')"
   ]
  },
  {
   "cell_type": "code",
   "execution_count": 36,
   "metadata": {},
   "outputs": [
    {
     "data": {
      "text/plain": [
       "'<Response><Say voice=\"alice\">ASCII silly question, get a silly ANSI.</Say></Response>'"
      ]
     },
     "execution_count": 36,
     "metadata": {},
     "output_type": "execute_result"
    }
   ],
   "source": [
    "joke = asyncio.run(print_joke())\n",
    "f'<Response><Say voice=\"alice\">{str(joke)}</Say></Response>'"
   ]
  },
  {
   "cell_type": "code",
   "execution_count": 39,
   "metadata": {},
   "outputs": [
    {
     "data": {
      "text/plain": [
       "'<Response><Say voice=\"alice\">Two reasons I don\\'t give money to homeless people.\\n1) They are going to spend it all on drugs and alcohol\\n2) I am going to spend it all on drugs and alcohol..</Say></Response>'"
      ]
     },
     "execution_count": 39,
     "metadata": {},
     "output_type": "execute_result"
    }
   ],
   "source": [
    "joke = \"Two reasons I don't give money to homeless people.\\n1) They are going to spend it all on drugs and alcohol\\n2) I am going to spend it all on drugs and alcohol.\"\n",
    "f'<Response><Say voice=\"alice\">{str(joke)}.</Say></Response>'"
   ]
  },
  {
   "cell_type": "code",
   "execution_count": 2,
   "metadata": {},
   "outputs": [
    {
     "data": {
      "text/plain": [
       "'CA83a4421abcaf478647adf2510decdf98'"
      ]
     },
     "execution_count": 2,
     "metadata": {},
     "output_type": "execute_result"
    }
   ],
   "source": [
    "import os\n",
    "from twilio.rest import Client\n",
    "import sys\n",
    "toDo = str(\"1\") \n",
    "\n",
    "\n",
    "account_sid = 'ACa19f70c845f7018e90c4ba2311a1e70d'\n",
    "auth_token = '4dc3d23d2ed3e66fb158c4e2e6e19781'\n",
    "\n",
    "\n",
    "def call_joke(phone_number):\n",
    "    client = Client(account_sid, auth_token)\n",
    "    call = client.calls.create(twiml='<Response><Say voice=\"alice\">'+\"1\"+'</Say></Response>',to=phone_number,from_='+16816411334')\n",
    "    return call.sid\n",
    "\n",
    "call_joke('+79112871146')"
   ]
  }
 ],
 "metadata": {
  "kernelspec": {
   "display_name": "Python 3",
   "language": "python",
   "name": "python3"
  },
  "language_info": {
   "codemirror_mode": {
    "name": "ipython",
    "version": 3
   },
   "file_extension": ".py",
   "mimetype": "text/x-python",
   "name": "python",
   "nbconvert_exporter": "python",
   "pygments_lexer": "ipython3",
   "version": "3.8.8"
  }
 },
 "nbformat": 4,
 "nbformat_minor": 4
}
