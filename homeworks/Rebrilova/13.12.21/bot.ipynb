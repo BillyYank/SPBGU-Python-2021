{
 "cells": [
  {
   "cell_type": "code",
   "execution_count": 56,
   "id": "5dd52657",
   "metadata": {},
   "outputs": [],
   "source": [
    "import time\n",
    "from threading import Thread\n",
    "import telebot\n",
    "from telebot import types\n",
    "from datetime import datetime\n",
    "import re\n",
    "import os\n",
    "\n",
    "\n",
    "i = 2"
   ]
  },
  {
   "cell_type": "code",
   "execution_count": 75,
   "id": "3916d1ee",
   "metadata": {},
   "outputs": [
    {
     "name": "stdout",
     "output_type": "stream",
     "text": [
      "['10:11 10.20.1020', '/sd 10/20/1020 /st 10:11']\n"
     ]
    }
   ],
   "source": [
    "def get_data(string):\n",
    "    res = string.split( )\n",
    "    res1 = res[1].split(\".\")\n",
    "    return [string, '/sd ' + \"/\".join(res1) + ' /st ' + res[0]]\n",
    "\n",
    "print(get_data(\"10:11 10.20.1020\"))\n",
    "\n",
    "\n",
    "def update_bat(task):\n",
    "#    with open ('call.bat', 'r') as f:\n",
    "#        old_data = f.read()\n",
    "#    new_data = old_data.split()\n",
    "    new_string = \"python C:\\\\Users\\Sofa\\Documents\\GitHub\\SPBGU-Python-2021\\homeworks\\Rebrilova\\\\13.12.21\\phone.py \" + task\n",
    "    with open ('call.bat', 'w') as f:\n",
    "        f.write(new_string)\n",
    "\n",
    "update_bat(\"1 22\")"
   ]
  },
  {
   "cell_type": "code",
   "execution_count": null,
   "id": "2da600fc",
   "metadata": {
    "scrolled": true
   },
   "outputs": [
    {
     "name": "stdout",
     "output_type": "stream",
     "text": [
      "79112871146\n",
      "14:00 17.12.2021\n",
      "YES\n",
      "schtasks /create /tn My_App_4 /tr C:\\Users\\Sofa\\Documents\\GitHub\\SPBGU-Python-2021\\homeworks\\Rebrilova\\13.12.21\\call.bat /sc once /sd 17/12/2021 /st 14:00\n",
      "0\n"
     ]
    }
   ],
   "source": [
    "bot = telebot.TeleBot('5009014734:AAHhNUBh9h87W9UAOtTfy0oeJcCvKvlMNig')\n",
    "\n",
    "users = {}\n",
    "phones = {}\n",
    "tasks = {}\n",
    "\n",
    "@bot.message_handler(commands=['start', 'help'])\n",
    "def handle_start_help(message):\n",
    "    keyboard = types.InlineKeyboardMarkup()\n",
    "    start_button = types.InlineKeyboardButton(text='Начать', callback_data='LetsGo')\n",
    "    keyboard.add(start_button)\n",
    "    bot.send_message(message.chat.id, f'''Привет, {str(message.chat.first_name)}! \n",
    "                                          Нажми Начать''', reply_markup=keyboard)\n",
    "@bot.callback_query_handler(func=lambda  call: True)\n",
    "def callback_worker(call):\n",
    "    if call.data == 'LetsGo':\n",
    "        bot.send_message(call.message.chat.id, 'Что будем запоминать?')\n",
    "\n",
    "@bot.message_handler(content_types=['text'])\n",
    "\n",
    "def get_message(message):\n",
    "#'''Функция получения сообщения от пользователя'''\n",
    "    task = message.text\n",
    "    chat_id = message.chat.id\n",
    "    tasks[chat_id] = task\n",
    "    answer = f'{str(message.chat.first_name)}. По какому номеру позвонить?'\n",
    "    bot.send_message(message.chat.id, text=answer)\n",
    "    bot.register_next_step_handler(message, get_number)\n",
    "\n",
    "\n",
    "def get_number(message):\n",
    "# Проверка номера и получ    \n",
    "    phone = message.text\n",
    "    chat_id = message.chat.id\n",
    "    print(phone)\n",
    "    while phone.isdigit() != True or len(str(phone))!=11:\n",
    "        bot.send_message(message.chat.id, 'Странный номер 🤔, введи новый')\n",
    "        bot.register_next_step_handler(message, get_number)\n",
    "        break\n",
    "    else:\n",
    "        phones[chat_id] = phone\n",
    "        answer = f'{str(message.chat.first_name)}. Когда напомнить? (введите время в формате часы:минуты дата.месяц.год)'\n",
    "        bot.send_message(message.chat.id, text=answer)\n",
    "        bot.register_next_step_handler(message, get_time)\n",
    "    \n",
    "    \n",
    "def get_time(message):\n",
    "#'''Функция получения времени задержки от пользователя'''\n",
    "    timelaps = str(message.text)\n",
    "    print(timelaps)\n",
    "    chat_id = message.chat.id\n",
    "    match = re.fullmatch(r'\\d\\d:\\d\\d \\d\\d.\\d\\d.\\d{4}', timelaps)\n",
    "    print('YES' if match else 'NO') \n",
    "    while  not match:\n",
    "        bot.send_message(message.chat.id, 'Проверьте правильность ввода 😉')\n",
    "        bot.register_next_step_handler(message, get_time)\n",
    "        break    \n",
    "    else:\n",
    "        users[chat_id] = get_data(timelaps)\n",
    "        check_in(message)\n",
    "\n",
    "def check_in(message):\n",
    "#'''Функция задержки времени перед отправкой заметки'''\n",
    "    global i\n",
    "    chat_id = message.chat.id\n",
    "    timelaps = users[chat_id]\n",
    "    task = tasks [chat_id]\n",
    "    bot.send_message(message.chat.id, text=f'ОК: я напомню сделать {task}, в {timelaps[0]}. Позвоню по номеру {phones[chat_id]}, возьми трубку 😉')\n",
    "    update_bat(task)\n",
    "    string = f\"schtasks /create /tn My_App_{i} /tr C:\\\\Users\\Sofa\\Documents\\GitHub\\SPBGU-Python-2021\\homeworks\\Rebrilova\\\\13.12.21\\call.bat /sc once \" + timelaps[1]\n",
    "    print(string)\n",
    "    ret = os.system(string)\n",
    "    print(ret)\n",
    "    i+=1\n",
    "bot.polling(none_stop=True, timeout=20)"
   ]
  }
 ],
 "metadata": {
  "kernelspec": {
   "display_name": "Python 3",
   "language": "python",
   "name": "python3"
  },
  "language_info": {
   "codemirror_mode": {
    "name": "ipython",
    "version": 3
   },
   "file_extension": ".py",
   "mimetype": "text/x-python",
   "name": "python",
   "nbconvert_exporter": "python",
   "pygments_lexer": "ipython3",
   "version": "3.8.8"
  }
 },
 "nbformat": 4,
 "nbformat_minor": 5
}
