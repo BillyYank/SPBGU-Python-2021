{
 "cells": [
  {
   "cell_type": "code",
   "execution_count": null,
   "id": "398686e3",
   "metadata": {},
   "outputs": [],
   "source": [
    "#Добрый день, Тарас! Бот \"Domashka\" создала, но со звонками не очень получилось... Направляю для отчетности)"
   ]
  },
  {
   "cell_type": "code",
   "execution_count": 1,
   "id": "99fd44ab",
   "metadata": {},
   "outputs": [
    {
     "name": "stdout",
     "output_type": "stream",
     "text": [
      "Collecting pyTelegramBotAPI\n",
      "  Downloading pyTelegramBotAPI-4.2.2.tar.gz (140 kB)\n",
      "Requirement already satisfied: requests in c:\\users\\mariya\\anaconda3\\lib\\site-packages (from pyTelegramBotAPI) (2.26.0)\n",
      "Requirement already satisfied: certifi>=2017.4.17 in c:\\users\\mariya\\anaconda3\\lib\\site-packages (from requests->pyTelegramBotAPI) (2021.10.8)\n",
      "Requirement already satisfied: urllib3<1.27,>=1.21.1 in c:\\users\\mariya\\anaconda3\\lib\\site-packages (from requests->pyTelegramBotAPI) (1.26.7)\n",
      "Requirement already satisfied: charset-normalizer~=2.0.0 in c:\\users\\mariya\\anaconda3\\lib\\site-packages (from requests->pyTelegramBotAPI) (2.0.4)\n",
      "Requirement already satisfied: idna<4,>=2.5 in c:\\users\\mariya\\anaconda3\\lib\\site-packages (from requests->pyTelegramBotAPI) (3.2)\n",
      "Building wheels for collected packages: pyTelegramBotAPI\n",
      "  Building wheel for pyTelegramBotAPI (setup.py): started\n",
      "  Building wheel for pyTelegramBotAPI (setup.py): finished with status 'done'\n",
      "  Created wheel for pyTelegramBotAPI: filename=pyTelegramBotAPI-4.2.2-py3-none-any.whl size=118509 sha256=30e37864b18e6ecdb37e7786fa8cb5003a4bd8de6b422ae60b0d2dae87632910\n",
      "  Stored in directory: c:\\users\\mariya\\appdata\\local\\pip\\cache\\wheels\\85\\26\\36\\d1fdfe36fdf81abe37c4428e926ed1e6f7c1507ada54de313d\n",
      "Successfully built pyTelegramBotAPI\n",
      "Installing collected packages: pyTelegramBotAPI\n",
      "Successfully installed pyTelegramBotAPI-4.2.2\n"
     ]
    }
   ],
   "source": [
    "! pip install pyTelegramBotAPI"
   ]
  },
  {
   "cell_type": "code",
   "execution_count": null,
   "id": "6594359e",
   "metadata": {},
   "outputs": [],
   "source": [
    "import telebot\n",
    "\n",
    "bot = telebot.TeleBot(\"5003041819:AAFblb7N1h5gFIl2PzzyvveJM6bQAfG8j5c\")\n",
    "\n",
    "\n",
    "@bot.message_handler(commands=['start', 'help'])\n",
    "def send_welcome(message):\n",
    "\tbot.reply_to(message, \"Howdy, how are you doing?\")\n",
    "\n",
    "    \n",
    "@bot.message_handler(commands=['notify'])\n",
    "def make_notification(message):\n",
    "\tos.system(\"python3 make_call.py 'Buy milk' at 2021-12-14 12:00:00\")\n",
    "\tbot.reply_to(message, \"Success\")\n",
    "\n",
    "\n",
    "@bot.message_handler(func=lambda message: True)\n",
    "def hi_reply(message):\n",
    "\tbot.reply_to(message, \"42\")\n",
    "\n",
    "\n",
    "bot.infinity_polling()\n",
    "\n",
    "\n",
    "# ssh root@45.147.179.106 3cIG8A*j"
   ]
  },
  {
   "cell_type": "code",
   "execution_count": null,
   "id": "9fb0e0b9",
   "metadata": {},
   "outputs": [],
   "source": [
    "import os\n",
    "from twilio.rest import Client\n",
    "\n",
    "\n",
    "\n",
    "account_sid = 'AC563c7251b45d765869e8db186e8bd96b'\n",
    "auth_token = '548348ea1dc1b64ceb3560e61014cdfa'\n",
    "client = Client(account_sid, auth_token)\n",
    "\n",
    "call = client.calls.create(\n",
    "                        url='http://demo.twilio.com/docs/voice.xml',\n",
    "                        to='+79112317130',\n",
    "                        from_='+14094985547'\n",
    "                    )\n",
    "\n",
    "print(call.sid)"
   ]
  },
  {
   "cell_type": "code",
   "execution_count": null,
   "id": "3d46cf49",
   "metadata": {},
   "outputs": [],
   "source": [
    "from Domashkaapi import Domashkas # Import the Jokes class\n",
    "\n",
    "\n",
    "def get_Domashka():\n",
    "    j = Domashka()  # Initialise the class\n",
    "    Domashka = j.get_Domashka(lang='en')  # Retrieve a random joke\n",
    "    if Domashka[\"type\"] == \"single\": # Print the joke\n",
    "        return Domashka[\"joke\"]\n",
    "    else:\n",
    "        return Domashka[\"setup\"] + ' ' + Domashka[\"delivery\"]\n",
    "\n",
    "get_Domashka()"
   ]
  },
  {
   "cell_type": "code",
   "execution_count": null,
   "id": "087b08f8",
   "metadata": {},
   "outputs": [],
   "source": [
    "def call_joke(phone_number):\n",
    "    client = Client(account_sid, auth_token)\n",
    "    \n",
    "    joke = get_joke()\n",
    "    \n",
    "    call = client.calls.create(\n",
    "                            twiml=f'<Response><Say>{joke}</Say></Response>',\n",
    "                            to='+79112317130',\n",
    "                            from_='+14094985547'\n",
    "                        )\n",
    "    return call.sid"
   ]
  },
  {
   "cell_type": "code",
   "execution_count": null,
   "id": "62e6de30",
   "metadata": {},
   "outputs": [],
   "source": [
    "call_Domashka('+79112317130')"
   ]
  },
  {
   "cell_type": "code",
   "execution_count": null,
   "id": "811ec37d",
   "metadata": {},
   "outputs": [],
   "source": [
    "while True:\n",
    "    pass"
   ]
  }
 ],
 "metadata": {
  "kernelspec": {
   "display_name": "Python 3 (ipykernel)",
   "language": "python",
   "name": "python3"
  },
  "language_info": {
   "codemirror_mode": {
    "name": "ipython",
    "version": 3
   },
   "file_extension": ".py",
   "mimetype": "text/x-python",
   "name": "python",
   "nbconvert_exporter": "python",
   "pygments_lexer": "ipython3",
   "version": "3.9.7"
  }
 },
 "nbformat": 4,
 "nbformat_minor": 5
}
