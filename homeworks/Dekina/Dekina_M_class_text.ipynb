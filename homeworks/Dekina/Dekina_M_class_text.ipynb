{
 "cells": [
  {
   "cell_type": "code",
   "execution_count": 84,
   "id": "23d084bf",
   "metadata": {},
   "outputs": [],
   "source": [
    "#Тарас, получилось не все, Питон начала изучать в ноябре на курсе \"Data Science\", но я старалась)\n"
   ]
  },
  {
   "cell_type": "markdown",
   "id": "3d7673dc",
   "metadata": {},
   "source": [
    "1) Вам надо написать класс Text, экземплярами которого будут являтся, как ни странно тексты)\n",
    "Текст -- это тот же string, но умнее. Например, у текста есть метод, возвращающий n самых популярных слов,\n",
    "число абзацев, автоматически определяется язык текста (это уже продвинутый уровнь)...\n",
    "\n",
    "Ниже набор примеров использования класса. Вам надо написать класс, чтоб этот код заработал.\n",
    "'''"
   ]
  },
  {
   "cell_type": "code",
   "execution_count": 79,
   "id": "89618ad0",
   "metadata": {},
   "outputs": [],
   "source": [
    "class Text:\n",
    "    def __init__(self, text):\n",
    "        self.text = text\n",
    "           \n",
    "            \n",
    "    def top_words(self, n):\n",
    "        self.words = self.text.split()\n",
    "        return Counter(self.words).most_common(n)\n",
    "    \n",
    "    def paragraphs_count(self):\n",
    "        return self.text.count(('\\n\\n'))\n",
    "        \n",
    "\n",
    "  \n",
    "   # @property\n",
    "    #def lang(self):\n",
    "        # TODO\n",
    "       # pass"
   ]
  },
  {
   "cell_type": "code",
   "execution_count": 80,
   "id": "e11e3719",
   "metadata": {
    "scrolled": true
   },
   "outputs": [],
   "source": [
    "# читаем содержимое файла, передаем полученную строку на вход в конструктор (текст создается, из сырого текста)\n",
    "\n",
    "with open('The Hitchhikers Guide to the Galaxy.txt', 'r') as f:\n",
    "    text = Text(f.read())\n"
   ]
  },
  {
   "cell_type": "code",
   "execution_count": 81,
   "id": "c8931025",
   "metadata": {},
   "outputs": [],
   "source": [
    "from collections import Counter"
   ]
  },
  {
   "cell_type": "code",
   "execution_count": 82,
   "id": "9a30f32d",
   "metadata": {},
   "outputs": [
    {
     "name": "stdout",
     "output_type": "stream",
     "text": [
      "Top 10 words: \n",
      " [('the', 2392), ('of', 1331), ('to', 1248), ('a', 1175), ('and', 1174), ('was', 655), ('in', 635), ('he', 541), ('said', 504), ('it', 503)]\n"
     ]
    }
   ],
   "source": [
    "# печатаем топ 10 слов, подумайте, как сделать так, чтоб вывод был интересным (чтоб там не было очевидных слов типа \"and\", \"is\" ...\n",
    "\n",
    "print(\"Top 10 words: \\n\", text.top_words(10))\n"
   ]
  },
  {
   "cell_type": "code",
   "execution_count": 83,
   "id": "e9b8b99f",
   "metadata": {},
   "outputs": [
    {
     "name": "stdout",
     "output_type": "stream",
     "text": [
      "Paragraphs count:  2256\n"
     ]
    }
   ],
   "source": [
    "# сколько в тексте абзацев?\n",
    "\n",
    "print(\"Paragraphs count: \", text.paragraphs_count())"
   ]
  },
  {
   "cell_type": "code",
   "execution_count": null,
   "id": "e6aa29e6",
   "metadata": {},
   "outputs": [],
   "source": [
    "# определите язык текста (способов много, гуглите)\n",
    "\n",
    "print(\"Language: \", text.lang)\n"
   ]
  },
  {
   "cell_type": "markdown",
   "id": "861b0e8c",
   "metadata": {},
   "source": [
    "2) Хорошо, а теперь сделаем класс Poem (стих), и, опять же, вам надо поддержать код написанный ниже. Из\n",
    "интересного: вам нужно уметь итерироваться по стиху, строчка за строчкой, а так же определять стиль стихосложения (Ямб, Хорей...)\n",
    "'''"
   ]
  },
  {
   "cell_type": "code",
   "execution_count": 71,
   "id": "d620a9c5",
   "metadata": {},
   "outputs": [],
   "source": [
    "class Poem(Text):\n",
    "    def __init__(self, raw_text):\n",
    "        super().__init__(text)\n",
    "        \n",
    "\n",
    "    #def __iter__(self):\n",
    "        # TODO\n",
    "        #pass\n",
    "\n",
    "    #def __next__(self):\n",
    "        #TODO\n",
    "        #pass\n",
    "\n",
    "   # @property\n",
    "    #def style(self):\n",
    "        #TODO\n",
    "        #pass"
   ]
  },
  {
   "cell_type": "code",
   "execution_count": 72,
   "id": "1a4363f6",
   "metadata": {},
   "outputs": [],
   "source": [
    "# читаем содержимое файла, передаем полученную строку на вход в конструктор (текст создается, из сырого текста)\n",
    "\n",
    "with open('blake.txt', 'r') as f:\n",
    "    poem = Poem(f.read())"
   ]
  },
  {
   "cell_type": "code",
   "execution_count": 73,
   "id": "7d46bc6e",
   "metadata": {},
   "outputs": [
    {
     "name": "stdout",
     "output_type": "stream",
     "text": [
      "Top 10 words: \n",
      " [('the', 2392), ('of', 1331), ('to', 1248), ('a', 1175), ('and', 1174), ('was', 655), ('in', 635), ('he', 541), ('said', 504), ('it', 503)]\n"
     ]
    }
   ],
   "source": [
    "# должно работать, ведь реализованно в классе-родителе\n",
    "\n",
    "print(\"Top 10 words: \\n\", text.top_words(10))\n",
    "#print(\"Language: \", text.lang)"
   ]
  },
  {
   "cell_type": "code",
   "execution_count": null,
   "id": "39938eb5",
   "metadata": {},
   "outputs": [],
   "source": [
    "# Напечатаем стихотоворение, строчка за строчкой, именно для этого вам надо написать __iter__ и __next__\n",
    "for line in poem:\n",
    "    print(line)"
   ]
  },
  {
   "cell_type": "code",
   "execution_count": null,
   "id": "2536bdc2",
   "metadata": {},
   "outputs": [],
   "source": [
    "# Определите стиль стихотворения (Ямб, Хорей... вот про это). Не удивлюсь, если есть готовое библиотечное решение,\n",
    "# но можно и руками сделать"
   ]
  }
 ],
 "metadata": {
  "kernelspec": {
   "display_name": "Python 3 (ipykernel)",
   "language": "python",
   "name": "python3"
  },
  "language_info": {
   "codemirror_mode": {
    "name": "ipython",
    "version": 3
   },
   "file_extension": ".py",
   "mimetype": "text/x-python",
   "name": "python",
   "nbconvert_exporter": "python",
   "pygments_lexer": "ipython3",
   "version": "3.9.7"
  }
 },
 "nbformat": 4,
 "nbformat_minor": 5
}
